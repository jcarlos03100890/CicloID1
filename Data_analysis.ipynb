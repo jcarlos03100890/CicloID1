{
  "nbformat": 4,
  "nbformat_minor": 0,
  "metadata": {
    "colab": {
      "provenance": [],
      "toc_visible": true,
      "authorship_tag": "ABX9TyPwkdmpU+eshGR7MUwZC0N6",
      "include_colab_link": true
    },
    "kernelspec": {
      "name": "python3",
      "display_name": "Python 3"
    },
    "language_info": {
      "name": "python"
    }
  },
  "cells": [
    {
      "cell_type": "markdown",
      "metadata": {
        "id": "view-in-github",
        "colab_type": "text"
      },
      "source": [
        "<a href=\"https://colab.research.google.com/github/jcarlos03100890/CicloID1/blob/main/Data_analysis.ipynb\" target=\"_parent\"><img src=\"https://colab.research.google.com/assets/colab-badge.svg\" alt=\"Open In Colab\"/></a>"
      ]
    },
    {
      "cell_type": "markdown",
      "source": [
        "# Check to see if we're running in Colab"
      ],
      "metadata": {
        "id": "c3VdoWhBTZ1e"
      }
    },
    {
      "cell_type": "code",
      "execution_count": null,
      "metadata": {
        "colab": {
          "base_uri": "https://localhost:8080/"
        },
        "id": "NOZzAJuD1FqK",
        "outputId": "9641db24-d418-4b9c-d550-a67e94a56baf"
      },
      "outputs": [
        {
          "output_type": "stream",
          "name": "stdout",
          "text": [
            "We're running Colab\n"
          ]
        }
      ],
      "source": [
        "try:\n",
        "  from google.colab import drive\n",
        "  IN_COLAB=True\n",
        "except:\n",
        "  IN_COLAB=False\n",
        "\n",
        "if IN_COLAB:\n",
        "  print(\"We're running Colab\")"
      ]
    },
    {
      "cell_type": "markdown",
      "source": [
        "# Switch current directory to a directory on colab where we will be working."
      ],
      "metadata": {
        "id": "pIJlaI9rTqOS"
      }
    },
    {
      "cell_type": "code",
      "source": [
        "import os\n",
        "current_path = os.getcwd()\n",
        "print(\"Current Working Directory: \",current_path)\n",
        "\n",
        "# Switch to the directory on the Google Drive that you want to use\n",
        "drive_root = \"/content/Reto1_Ciclo1_Data\"\n",
        "\n",
        "# Create drive_root if it doesn't exist\n",
        "create_drive_root = True\n",
        "if create_drive_root:\n",
        "  print(\"\\nColab: making sure \", drive_root, \" exists.\")\n",
        "  os.makedirs(drive_root, exist_ok=True)\n",
        "\n",
        "  # Change to the directory\n",
        "print(\"\\nColab: Changing directory to \", drive_root)\n",
        "%cd $drive_root"
      ],
      "metadata": {
        "colab": {
          "base_uri": "https://localhost:8080/"
        },
        "id": "LCYAzS6uTstY",
        "outputId": "4257260d-e381-4878-cf27-5603222c3aee"
      },
      "execution_count": null,
      "outputs": [
        {
          "output_type": "stream",
          "name": "stdout",
          "text": [
            "Current Working Directory:  /content\n",
            "\n",
            "Colab: making sure  /content/Reto1_Ciclo1_Data  exists.\n",
            "\n",
            "Colab: Changing directory to  /content/Reto1_Ciclo1_Data\n",
            "/content/Reto1_Ciclo1_Data\n"
          ]
        }
      ]
    },
    {
      "cell_type": "code",
      "source": [
        "# Verify we're in the correct working directory\n",
        "%pwd"
      ],
      "metadata": {
        "colab": {
          "base_uri": "https://localhost:8080/",
          "height": 35
        },
        "id": "aqTRr2FpVm_d",
        "outputId": "0ec247ae-07bc-464e-9dc6-be7764fc8999"
      },
      "execution_count": null,
      "outputs": [
        {
          "output_type": "execute_result",
          "data": {
            "text/plain": [
              "'/content/Reto1_Ciclo1_Data'"
            ],
            "application/vnd.google.colaboratory.intrinsic+json": {
              "type": "string"
            }
          },
          "metadata": {},
          "execution_count": 8
        }
      ]
    },
    {
      "cell_type": "markdown",
      "source": [
        "## Fill the working directory from our Git repo !"
      ],
      "metadata": {
        "id": "2zWYAcoDW2rS"
      }
    },
    {
      "cell_type": "code",
      "source": [
        "# Let's load the working directory from our Git repo !\n",
        "repo_url = \"https://github.com/jcarlos03100890/Reto1_data.git\"\n",
        "\n",
        "# Clone the repo unless it is already there\n",
        "repo_root = os.path.join(drive_root,\"Reto1_data\")\n",
        "\n",
        "# Clone or refresh from the repo depending on whether we've cloned before\n",
        "if not os.path.exists( repo_root ):\n",
        "  print(\"Cloning from Git url: \", repo_url)\n",
        "  ! git clone $repo_url\n",
        "else:\n",
        "  print(\"Refreshing from Git url: \", repo_url)\n",
        "  %cd $repo_root\n",
        "  ! git pull\n",
        "\n",
        "\n",
        "print(\"\\nChange working directory to repo root\")\n",
        "%cd $repo_root"
      ],
      "metadata": {
        "colab": {
          "base_uri": "https://localhost:8080/"
        },
        "id": "xd2nCwpyxaMC",
        "outputId": "0e5e4d6a-917f-45f9-c099-0e6759eb05cc"
      },
      "execution_count": null,
      "outputs": [
        {
          "output_type": "stream",
          "name": "stdout",
          "text": [
            "Cloning from Git url:  https://github.com/jcarlos03100890/Reto1_data.git\n",
            "Cloning into 'Reto1_data'...\n",
            "remote: Enumerating objects: 10, done.\u001b[K\n",
            "remote: Counting objects: 100% (10/10), done.\u001b[K\n",
            "remote: Compressing objects: 100% (9/9), done.\u001b[K\n",
            "remote: Total 10 (delta 2), reused 3 (delta 0), pack-reused 0\u001b[K\n",
            "Receiving objects: 100% (10/10), 787.70 KiB | 4.47 MiB/s, done.\n",
            "Resolving deltas: 100% (2/2), done.\n",
            "\n",
            "Change working directory to repo root\n",
            "/content/Reto1_Ciclo1_Data/Reto1_data\n"
          ]
        }
      ]
    },
    {
      "cell_type": "code",
      "source": [
        "# Verify which files are in\n",
        "%ls"
      ],
      "metadata": {
        "colab": {
          "base_uri": "https://localhost:8080/"
        },
        "id": "UbmjkPs6yC1F",
        "outputId": "cdc2605d-19de-4902-977e-49d869bdb90a"
      },
      "execution_count": null,
      "outputs": [
        {
          "output_type": "stream",
          "name": "stdout",
          "text": [
            "Online-Shopping-Dataset.csv  README.md  tweets_extraction.json\n"
          ]
        }
      ]
    },
    {
      "cell_type": "markdown",
      "source": [
        "# Exploratory data analysis in Python.\n",
        "---\n"
      ],
      "metadata": {
        "id": "y9qG0iQFJTh4"
      }
    },
    {
      "cell_type": "markdown",
      "source": [
        "## Tweets dataset analysis"
      ],
      "metadata": {
        "id": "AhHFfCDmPPLD"
      }
    },
    {
      "cell_type": "markdown",
      "source": [
        "### 1. Importing the required libraries for EDA\n",
        "\n"
      ],
      "metadata": {
        "id": "gzuFT0Y8MAjJ"
      }
    },
    {
      "cell_type": "code",
      "source": [
        "import pandas as pd"
      ],
      "metadata": {
        "id": "A2KWPQH7JZS5"
      },
      "execution_count": null,
      "outputs": []
    },
    {
      "cell_type": "markdown",
      "source": [
        "### 2. Loading the tweets data into a data frame."
      ],
      "metadata": {
        "id": "eChIPg18MV2G"
      }
    },
    {
      "cell_type": "code",
      "source": [
        "df = pd.read_json(\"tweets_extraction.json\")\n",
        "\n",
        "# To display the rows\n",
        "print(\"\\n\\nTo display Rows\\n\")\n",
        "print(df.shape)"
      ],
      "metadata": {
        "colab": {
          "base_uri": "https://localhost:8080/",
          "height": 251
        },
        "id": "Ol9QjeFpLNp0",
        "outputId": "6d06cae9-852a-49ea-feb5-81ed75805cd8"
      },
      "execution_count": null,
      "outputs": [
        {
          "output_type": "error",
          "ename": "NameError",
          "evalue": "ignored",
          "traceback": [
            "\u001b[0;31m---------------------------------------------------------------------------\u001b[0m",
            "\u001b[0;31mNameError\u001b[0m                                 Traceback (most recent call last)",
            "\u001b[0;32m<ipython-input-1-b6d78959c190>\u001b[0m in \u001b[0;36m<cell line: 1>\u001b[0;34m()\u001b[0m\n\u001b[0;32m----> 1\u001b[0;31m \u001b[0mdf\u001b[0m \u001b[0;34m=\u001b[0m \u001b[0mpd\u001b[0m\u001b[0;34m.\u001b[0m\u001b[0mread_json\u001b[0m\u001b[0;34m(\u001b[0m\u001b[0;34m\"tweets_extraction.json\"\u001b[0m\u001b[0;34m)\u001b[0m\u001b[0;34m\u001b[0m\u001b[0;34m\u001b[0m\u001b[0m\n\u001b[0m\u001b[1;32m      2\u001b[0m \u001b[0;34m\u001b[0m\u001b[0m\n\u001b[1;32m      3\u001b[0m \u001b[0;31m# To display the rows\u001b[0m\u001b[0;34m\u001b[0m\u001b[0;34m\u001b[0m\u001b[0m\n\u001b[1;32m      4\u001b[0m \u001b[0mprint\u001b[0m\u001b[0;34m(\u001b[0m\u001b[0;34m\"\\n\\nTo display Rows\\n\"\u001b[0m\u001b[0;34m)\u001b[0m\u001b[0;34m\u001b[0m\u001b[0;34m\u001b[0m\u001b[0m\n\u001b[1;32m      5\u001b[0m \u001b[0mprint\u001b[0m\u001b[0;34m(\u001b[0m\u001b[0mdf\u001b[0m\u001b[0;34m.\u001b[0m\u001b[0mshape\u001b[0m\u001b[0;34m)\u001b[0m\u001b[0;34m\u001b[0m\u001b[0;34m\u001b[0m\u001b[0m\n",
            "\u001b[0;31mNameError\u001b[0m: name 'pd' is not defined"
          ]
        }
      ]
    },
    {
      "cell_type": "code",
      "source": [
        "\n",
        "\n",
        "# To display the top 5 rows\n",
        "print(\"\\n\\nTo display the top 5 rows\\n\")\n",
        "print(df.head(10))"
      ],
      "metadata": {
        "colab": {
          "base_uri": "https://localhost:8080/"
        },
        "id": "a1U0vuFIMahO",
        "outputId": "03b1dd49-5446-4591-d784-bb95f6da0623"
      },
      "execution_count": null,
      "outputs": [
        {
          "output_type": "stream",
          "name": "stdout",
          "text": [
            "\n",
            "\n",
            "To display the top 5 rows\n",
            "\n",
            "                  id                                              texto  \\\n",
            "0  12116719578733158  #BrechaAnuario2019 | Con cañón y coronel El vo...   \n",
            "1  12116547084876964  #BrechaAnuario2019 | Las PASO en Argentina \"Em...   \n",
            "2  12116529643744992  #BrechaAnuario2019 | Bolsonaro contra la selva...   \n",
            "3  12110290516301292  #BrechaAnuario2019 | Aquí, los temas que apare...   \n",
            "4  12107119614801142  #BrechaAnuario2019 | El mejor dibujante de his...   \n",
            "5   1210681764626092  #BrechaAnuario2019 | Rock’n Rimbaud En noviemb...   \n",
            "6   1210666663915344  #BrechaAnuario2019 | Primavera latinoamericana...   \n",
            "7  12106515668160266  #BrechaAnuario2019 | A veces, gana la vida El ...   \n",
            "8   1210637722655834  #BrechaAnuario2019 | Omnipresencia La estrateg...   \n",
            "9  12106276560576676  #BrechaAnuario2019 | Se buscan narradoras, viv...   \n",
            "\n",
            "           usuario                                           hashtags  \\\n",
            "0  SemanarioBrecha  [BrechaAnuario2019, RelecturasDeUnAñoPerturbador]   \n",
            "1  SemanarioBrecha                                [BrechaAnuario2019]   \n",
            "2  SemanarioBrecha                                [BrechaAnuario2019]   \n",
            "3  SemanarioBrecha  [BrechaAnuario2019, RelecturasDeUnAñoPerturbador]   \n",
            "4  SemanarioBrecha                                [BrechaAnuario2019]   \n",
            "5  SemanarioBrecha                                [BrechaAnuario2019]   \n",
            "6  SemanarioBrecha                                [BrechaAnuario2019]   \n",
            "7  SemanarioBrecha                                [BrechaAnuario2019]   \n",
            "8  SemanarioBrecha  [BrechaAnuario2019, RelecturasDeUnAñoPerturbador]   \n",
            "9  SemanarioBrecha                                [BrechaAnuario2019]   \n",
            "\n",
            "                      fecha  retweets  favoritos  \n",
            "0  2021-12-30T15:34:41.000Z         3          2  \n",
            "1  2021-12-30T14:26:08.000Z         2          1  \n",
            "2  2021-12-30T14:19:12.000Z         3          2  \n",
            "3  2021-12-28T21:00:00.000Z         2          5  \n",
            "4  2021-12-28T00:00:00.000Z         0          4  \n",
            "5  2021-12-27T22:00:00.000Z         2          2  \n",
            "6  2021-12-27T21:00:00.000Z         3          4  \n",
            "7  2021-12-27T20:00:01.000Z         9         17  \n",
            "8  2021-12-27T19:05:00.000Z         0          1  \n",
            "9  2021-12-27T18:25:00.000Z         0          1  \n"
          ]
        }
      ]
    },
    {
      "cell_type": "code",
      "source": [
        "# To display the bottom 5 rows\n",
        "print(\"\\n\\nTo display the bottom 5 rows\\n\")\n",
        "print(df.tail(10))"
      ],
      "metadata": {
        "colab": {
          "base_uri": "https://localhost:8080/"
        },
        "id": "bqwa3UzKNI-d",
        "outputId": "a0f14036-89e1-478d-8794-940309ad6b94"
      },
      "execution_count": null,
      "outputs": [
        {
          "output_type": "stream",
          "name": "stdout",
          "text": [
            "\n",
            "\n",
            "To display the bottom 5 rows\n",
            "\n",
            "                       id                                              texto  \\\n",
            "290596  10802713584106128  La \"chica más bella del mundo\" confirma su tít...   \n",
            "290597  10802298525596672  Un hombre embistió a una multitud en Alemania ...   \n",
            "290598  10801857937617388  El 2019 será un año de mucha resistencia y luc...   \n",
            "290599  10801279867650458  Detuvieron a 4 chilenos vinculados con robos a...   \n",
            "290600  10801064984522792  ¿Qué países no celebran el Año Nuevo el 1° de ...   \n",
            "290601   1080102594054406  Felicidades en este  1 dia del 2019. A todos l...   \n",
            "290602  10800857075935356  Apareció flotando en una laguna el cuerpo del ...   \n",
            "290603   1080077600553427  Recluso de Santiago Vázquez no retornó de una ...   \n",
            "290604   1079905091438682  Volcán de Indonesia que desató el tsunami perd...   \n",
            "290605  10798902581903892  La economía mundial se frenará en 2019 https:/...   \n",
            "\n",
            "               usuario hashtags                     fecha  retweets  favoritos  \n",
            "290596  larepublica_uy       []  2021-01-02T01:15:36.000Z         0          5  \n",
            "290597  larepublica_uy       []  2021-01-01T22:30:41.000Z         0          3  \n",
            "290598  larepublica_uy       []  2021-01-01T19:35:36.000Z         4         17  \n",
            "290599  larepublica_uy       []  2021-01-01T15:45:54.000Z         3          9  \n",
            "290600  larepublica_uy       []  2021-01-01T14:20:31.000Z         0          3  \n",
            "290601  larepublica_uy       []  2021-01-01T14:05:00.000Z        11         32  \n",
            "290602  larepublica_uy       []  2021-01-01T12:57:54.000Z         1          1  \n",
            "290603  larepublica_uy       []  2021-01-01T12:25:41.000Z         1          1  \n",
            "290604  larepublica_uy       []  2021-01-01T01:00:12.000Z         0          0  \n",
            "290605  larepublica_uy       []  2021-01-01T00:01:15.000Z         1          1  \n"
          ]
        }
      ]
    },
    {
      "cell_type": "markdown",
      "source": [
        "### 3. Checking the types of data"
      ],
      "metadata": {
        "id": "zCe_S3_bNPH3"
      }
    },
    {
      "cell_type": "code",
      "source": [
        "df.dtypes"
      ],
      "metadata": {
        "colab": {
          "base_uri": "https://localhost:8080/"
        },
        "id": "IVWatClfNZHF",
        "outputId": "9c7bd95a-1764-4f39-d946-126f3e811a60"
      },
      "execution_count": null,
      "outputs": [
        {
          "output_type": "execute_result",
          "data": {
            "text/plain": [
              "id            int64\n",
              "texto        object\n",
              "usuario      object\n",
              "hashtags     object\n",
              "fecha        object\n",
              "retweets      int64\n",
              "favoritos     int64\n",
              "dtype: object"
            ]
          },
          "metadata": {},
          "execution_count": 17
        }
      ]
    },
    {
      "cell_type": "markdown",
      "source": [
        "## Online Shopping Dataset analysis"
      ],
      "metadata": {
        "id": "yhz9bfYfPd74"
      }
    },
    {
      "cell_type": "markdown",
      "source": [
        "### 1. Importing the required libraries for EDA"
      ],
      "metadata": {
        "id": "RCXnrkQbP6mD"
      }
    },
    {
      "cell_type": "code",
      "source": [
        "import numpy as np\n",
        "import seaborn as sns                       #visualisation\n",
        "import matplotlib.pyplot as plt             #visualisation\n",
        "%matplotlib inline\n",
        "sns.set(color_codes=True)"
      ],
      "metadata": {
        "id": "VLfV71oqP8Nc"
      },
      "execution_count": null,
      "outputs": []
    },
    {
      "cell_type": "markdown",
      "source": [
        "### 2. Loading the Online Shopping Dataset into a data frame."
      ],
      "metadata": {
        "id": "zjCJWBBxQSlX"
      }
    },
    {
      "cell_type": "code",
      "source": [
        "df = pd.read_csv(\"Online-Shopping-Dataset.csv\")\n",
        "\n",
        "# To display the top 5 rows\n",
        "print(\"\\n\\nTo display the top 5 rows\\n\")\n",
        "print(df.head(5))"
      ],
      "metadata": {
        "colab": {
          "base_uri": "https://localhost:8080/"
        },
        "id": "AKrtr_WOQhFg",
        "outputId": "9da37052-53e4-465c-f99e-10e388a2bd05"
      },
      "execution_count": null,
      "outputs": [
        {
          "output_type": "stream",
          "name": "stdout",
          "text": [
            "\n",
            "\n",
            "To display the top 5 rows\n",
            "\n",
            "   Unnamed: 0  CustomerID Gender Location  Tenure_Months  Transaction_ID  \\\n",
            "0           0     17850.0      M  Chicago           12.0         16679.0   \n",
            "1           1     17850.0      M  Chicago           12.0         16680.0   \n",
            "2           2     17850.0      M  Chicago           12.0         16696.0   \n",
            "3           3     17850.0      M  Chicago           12.0         16699.0   \n",
            "4           4     17850.0      M  Chicago           12.0         16700.0   \n",
            "\n",
            "  Transaction_Date     Product_SKU  \\\n",
            "0       2019-01-01  GGOENEBJ079499   \n",
            "1       2019-01-01  GGOENEBJ079499   \n",
            "2       2019-01-01  GGOENEBQ078999   \n",
            "3       2019-01-01  GGOENEBQ079099   \n",
            "4       2019-01-01  GGOENEBJ079499   \n",
            "\n",
            "                                 Product_Description Product_Category  ...  \\\n",
            "0  Nest Learning Thermostat 3rd Gen-USA - Stainle...         Nest-USA  ...   \n",
            "1  Nest Learning Thermostat 3rd Gen-USA - Stainle...         Nest-USA  ...   \n",
            "2             Nest Cam Outdoor Security Camera - USA         Nest-USA  ...   \n",
            "3    Nest Protect Smoke + CO White Battery Alarm-USA         Nest-USA  ...   \n",
            "4  Nest Learning Thermostat 3rd Gen-USA - Stainle...         Nest-USA  ...   \n",
            "\n",
            "   Avg_Price  Delivery_Charges  Coupon_Status  GST      Date Offline_Spend  \\\n",
            "0     153.71               6.5           Used  0.1  1/1/2019        4500.0   \n",
            "1     153.71               6.5           Used  0.1  1/1/2019        4500.0   \n",
            "2     122.77               6.5       Not Used  0.1  1/1/2019        4500.0   \n",
            "3      81.50               6.5        Clicked  0.1  1/1/2019        4500.0   \n",
            "4     153.71               6.5        Clicked  0.1  1/1/2019        4500.0   \n",
            "\n",
            "   Online_Spend  Month  Coupon_Code Discount_pct  \n",
            "0        2424.5      1       ELEC10         10.0  \n",
            "1        2424.5      1       ELEC10         10.0  \n",
            "2        2424.5      1       ELEC10         10.0  \n",
            "3        2424.5      1       ELEC10         10.0  \n",
            "4        2424.5      1       ELEC10         10.0  \n",
            "\n",
            "[5 rows x 21 columns]\n"
          ]
        }
      ]
    },
    {
      "cell_type": "code",
      "source": [
        "# To display the bottom 5 rows\n",
        "print(\"\\n\\nTo display the bottom 5 rows\\n\")\n",
        "print(df.tail(5))"
      ],
      "metadata": {
        "colab": {
          "base_uri": "https://localhost:8080/"
        },
        "id": "a73n85TLQjJG",
        "outputId": "2a0a4271-682f-40f9-8d1a-44393993af01"
      },
      "execution_count": null,
      "outputs": [
        {
          "output_type": "stream",
          "name": "stdout",
          "text": [
            "\n",
            "\n",
            "To display the bottom 5 rows\n",
            "\n",
            "       Unnamed: 0  CustomerID Gender Location  Tenure_Months  Transaction_ID  \\\n",
            "52950       52950         NaN    NaN      NaN            NaN             NaN   \n",
            "52951       52951         NaN    NaN      NaN            NaN             NaN   \n",
            "52952       52952         NaN    NaN      NaN            NaN             NaN   \n",
            "52953       52953         NaN    NaN      NaN            NaN             NaN   \n",
            "52954       52954         NaN    NaN      NaN            NaN             NaN   \n",
            "\n",
            "      Transaction_Date Product_SKU Product_Description      Product_Category  \\\n",
            "52950              NaN         NaN                 NaN            Gift Cards   \n",
            "52951              NaN         NaN                 NaN  Notebooks & Journals   \n",
            "52952              NaN         NaN                 NaN               Android   \n",
            "52953              NaN         NaN                 NaN               Android   \n",
            "52954              NaN         NaN                 NaN               Android   \n",
            "\n",
            "       ...  Avg_Price  Delivery_Charges  Coupon_Status GST  Date  \\\n",
            "52950  ...        NaN               NaN            NaN NaN   NaN   \n",
            "52951  ...        NaN               NaN            NaN NaN   NaN   \n",
            "52952  ...        NaN               NaN            NaN NaN   NaN   \n",
            "52953  ...        NaN               NaN            NaN NaN   NaN   \n",
            "52954  ...        NaN               NaN            NaN NaN   NaN   \n",
            "\n",
            "      Offline_Spend  Online_Spend  Month  Coupon_Code Discount_pct  \n",
            "52950           NaN           NaN     11         GC20         20.0  \n",
            "52951           NaN           NaN     11         NJ20         20.0  \n",
            "52952           NaN           NaN     10        AND10         10.0  \n",
            "52953           NaN           NaN     11        AND20         20.0  \n",
            "52954           NaN           NaN     12        AND30         30.0  \n",
            "\n",
            "[5 rows x 21 columns]\n"
          ]
        }
      ]
    },
    {
      "cell_type": "markdown",
      "source": [
        "### 3. Checking the types of data"
      ],
      "metadata": {
        "id": "sp51Mbn7QzFf"
      }
    },
    {
      "cell_type": "code",
      "source": [
        "# Checking the data type\n",
        "print(\"\\n\\nChecking the data type\\n\")\n",
        "print(df.dtypes)"
      ],
      "metadata": {
        "colab": {
          "base_uri": "https://localhost:8080/"
        },
        "id": "Z37tlqGtQo68",
        "outputId": "a91fcb44-435a-4c9e-e257-74b213d5dfc6"
      },
      "execution_count": null,
      "outputs": [
        {
          "output_type": "stream",
          "name": "stdout",
          "text": [
            "\n",
            "\n",
            "Checking the data type\n",
            "\n",
            "Unnamed: 0               int64\n",
            "CustomerID             float64\n",
            "Gender                  object\n",
            "Location                object\n",
            "Tenure_Months          float64\n",
            "Transaction_ID         float64\n",
            "Transaction_Date        object\n",
            "Product_SKU             object\n",
            "Product_Description     object\n",
            "Product_Category        object\n",
            "Quantity               float64\n",
            "Avg_Price              float64\n",
            "Delivery_Charges       float64\n",
            "Coupon_Status           object\n",
            "GST                    float64\n",
            "Date                    object\n",
            "Offline_Spend          float64\n",
            "Online_Spend           float64\n",
            "Month                    int64\n",
            "Coupon_Code             object\n",
            "Discount_pct           float64\n",
            "dtype: object\n"
          ]
        }
      ]
    },
    {
      "cell_type": "markdown",
      "source": [
        "### 4. Dropping irrelevant columns"
      ],
      "metadata": {
        "id": "iUOpDHYORIRD"
      }
    },
    {
      "cell_type": "code",
      "source": [
        "# Dropping irrelevant columns\n",
        "df = df.drop(['GST', 'Tenure_Months', 'Unnamed: 0'], axis=1)\n",
        "print(\"\\n\\nDropping irrelevant columns\\n\")\n",
        "print(df.head(5))\n"
      ],
      "metadata": {
        "colab": {
          "base_uri": "https://localhost:8080/"
        },
        "id": "wlCGmZNCRGWJ",
        "outputId": "79eedff8-d7b3-429d-e00f-9c8e78d1fd95"
      },
      "execution_count": null,
      "outputs": [
        {
          "output_type": "stream",
          "name": "stdout",
          "text": [
            "\n",
            "\n",
            "Dropping irrelevant columns\n",
            "\n",
            "   CustomerID Gender Location  Transaction_ID Transaction_Date  \\\n",
            "0     17850.0      M  Chicago         16679.0       2019-01-01   \n",
            "1     17850.0      M  Chicago         16680.0       2019-01-01   \n",
            "2     17850.0      M  Chicago         16696.0       2019-01-01   \n",
            "3     17850.0      M  Chicago         16699.0       2019-01-01   \n",
            "4     17850.0      M  Chicago         16700.0       2019-01-01   \n",
            "\n",
            "      Product_SKU                                Product_Description  \\\n",
            "0  GGOENEBJ079499  Nest Learning Thermostat 3rd Gen-USA - Stainle...   \n",
            "1  GGOENEBJ079499  Nest Learning Thermostat 3rd Gen-USA - Stainle...   \n",
            "2  GGOENEBQ078999             Nest Cam Outdoor Security Camera - USA   \n",
            "3  GGOENEBQ079099    Nest Protect Smoke + CO White Battery Alarm-USA   \n",
            "4  GGOENEBJ079499  Nest Learning Thermostat 3rd Gen-USA - Stainle...   \n",
            "\n",
            "  Product_Category  Quantity  Avg_Price  Delivery_Charges Coupon_Status  \\\n",
            "0         Nest-USA       1.0     153.71               6.5          Used   \n",
            "1         Nest-USA       1.0     153.71               6.5          Used   \n",
            "2         Nest-USA       2.0     122.77               6.5      Not Used   \n",
            "3         Nest-USA       1.0      81.50               6.5       Clicked   \n",
            "4         Nest-USA       1.0     153.71               6.5       Clicked   \n",
            "\n",
            "       Date  Offline_Spend  Online_Spend  Month Coupon_Code  Discount_pct  \n",
            "0  1/1/2019         4500.0        2424.5      1      ELEC10          10.0  \n",
            "1  1/1/2019         4500.0        2424.5      1      ELEC10          10.0  \n",
            "2  1/1/2019         4500.0        2424.5      1      ELEC10          10.0  \n",
            "3  1/1/2019         4500.0        2424.5      1      ELEC10          10.0  \n",
            "4  1/1/2019         4500.0        2424.5      1      ELEC10          10.0  \n"
          ]
        }
      ]
    },
    {
      "cell_type": "markdown",
      "source": [
        "### 5. Renaming the column names"
      ],
      "metadata": {
        "id": "aVpBc51kRPpz"
      }
    },
    {
      "cell_type": "code",
      "source": [
        "# Renaming the column names\n",
        "df = pd.read_csv(\"Online-Shopping-Dataset.csv\")\n",
        "df = df.rename(columns={\"Unnamed: 0\": \"No.\", \"CustomerID\": \"ID\", \"Product_SKU\": \"SKU\"})\n",
        "print(\"\\n\\nRenaming the column names\\n\")\n",
        "print(df.head(5))\n"
      ],
      "metadata": {
        "colab": {
          "base_uri": "https://localhost:8080/"
        },
        "id": "E8ThO7jQRM_l",
        "outputId": "0bb7da98-ae5d-4602-a9c9-2603084bfbdf"
      },
      "execution_count": null,
      "outputs": [
        {
          "output_type": "stream",
          "name": "stdout",
          "text": [
            "\n",
            "\n",
            "Renaming the column names\n",
            "\n",
            "   No.       ID Gender Location  Tenure_Months  Transaction_ID  \\\n",
            "0    0  17850.0      M  Chicago           12.0         16679.0   \n",
            "1    1  17850.0      M  Chicago           12.0         16680.0   \n",
            "2    2  17850.0      M  Chicago           12.0         16696.0   \n",
            "3    3  17850.0      M  Chicago           12.0         16699.0   \n",
            "4    4  17850.0      M  Chicago           12.0         16700.0   \n",
            "\n",
            "  Transaction_Date             SKU  \\\n",
            "0       2019-01-01  GGOENEBJ079499   \n",
            "1       2019-01-01  GGOENEBJ079499   \n",
            "2       2019-01-01  GGOENEBQ078999   \n",
            "3       2019-01-01  GGOENEBQ079099   \n",
            "4       2019-01-01  GGOENEBJ079499   \n",
            "\n",
            "                                 Product_Description Product_Category  ...  \\\n",
            "0  Nest Learning Thermostat 3rd Gen-USA - Stainle...         Nest-USA  ...   \n",
            "1  Nest Learning Thermostat 3rd Gen-USA - Stainle...         Nest-USA  ...   \n",
            "2             Nest Cam Outdoor Security Camera - USA         Nest-USA  ...   \n",
            "3    Nest Protect Smoke + CO White Battery Alarm-USA         Nest-USA  ...   \n",
            "4  Nest Learning Thermostat 3rd Gen-USA - Stainle...         Nest-USA  ...   \n",
            "\n",
            "   Avg_Price  Delivery_Charges  Coupon_Status  GST      Date Offline_Spend  \\\n",
            "0     153.71               6.5           Used  0.1  1/1/2019        4500.0   \n",
            "1     153.71               6.5           Used  0.1  1/1/2019        4500.0   \n",
            "2     122.77               6.5       Not Used  0.1  1/1/2019        4500.0   \n",
            "3      81.50               6.5        Clicked  0.1  1/1/2019        4500.0   \n",
            "4     153.71               6.5        Clicked  0.1  1/1/2019        4500.0   \n",
            "\n",
            "   Online_Spend  Month  Coupon_Code Discount_pct  \n",
            "0        2424.5      1       ELEC10         10.0  \n",
            "1        2424.5      1       ELEC10         10.0  \n",
            "2        2424.5      1       ELEC10         10.0  \n",
            "3        2424.5      1       ELEC10         10.0  \n",
            "4        2424.5      1       ELEC10         10.0  \n",
            "\n",
            "[5 rows x 21 columns]\n"
          ]
        }
      ]
    },
    {
      "cell_type": "markdown",
      "source": [
        "### 6. Total number of rows and columns"
      ],
      "metadata": {
        "id": "dYF9AtnORVgo"
      }
    },
    {
      "cell_type": "code",
      "source": [
        "# Total number of rows and columns\n",
        "print(\"\\n\\nTotal number of rows and columns:\",df.shape)"
      ],
      "metadata": {
        "colab": {
          "base_uri": "https://localhost:8080/"
        },
        "id": "zWint7Y6RR8-",
        "outputId": "5e901d81-5621-49d3-f13d-744b34c21e8c"
      },
      "execution_count": null,
      "outputs": [
        {
          "output_type": "stream",
          "name": "stdout",
          "text": [
            "\n",
            "\n",
            "Total number of rows and columns: (52955, 21)\n"
          ]
        }
      ]
    },
    {
      "cell_type": "markdown",
      "source": [
        "### 7. Rows containing duplicate data"
      ],
      "metadata": {
        "id": "hq_bUjxpSMW7"
      }
    },
    {
      "cell_type": "code",
      "source": [
        "# Rows containing duplicate data\n",
        "duplicate_rows_df = df[df.duplicated()]\n",
        "print(\"\\n\\nNumber of duplicate rows: \", duplicate_rows_df.shape)\n",
        "#number of duplicate rows:  (989, 10)\n"
      ],
      "metadata": {
        "colab": {
          "base_uri": "https://localhost:8080/"
        },
        "id": "sZc_jGycSHmq",
        "outputId": "60e6334f-b8d8-4ff8-9f3a-2d3b46e16393"
      },
      "execution_count": null,
      "outputs": [
        {
          "output_type": "stream",
          "name": "stdout",
          "text": [
            "\n",
            "\n",
            "Number of duplicate rows:  (0, 21)\n"
          ]
        }
      ]
    },
    {
      "cell_type": "markdown",
      "source": [
        "### 8. Dropping the duplicates"
      ],
      "metadata": {
        "id": "U_5Sy1UkSU7h"
      }
    },
    {
      "cell_type": "code",
      "source": [
        "# Used to count the number of rows before removing the data\n",
        "print(\"\\n\\nUsed to count the number of rows before removing the data:\\n\",df.count())\n",
        "\n",
        "# Dropping the duplicates\n",
        "\n",
        "df = df.drop_duplicates()\n",
        "print(\"\\n\\nDropping the duplicates\",\n",
        "df.head(5))\n",
        "print(\"\\n\\nUsed to count the number of rows before removing the data:\\n\",df.count())"
      ],
      "metadata": {
        "colab": {
          "base_uri": "https://localhost:8080/"
        },
        "id": "0-p5AKP8SQsJ",
        "outputId": "48b6e4dd-7971-4a86-d477-ca7d3b16b0f9"
      },
      "execution_count": null,
      "outputs": [
        {
          "output_type": "stream",
          "name": "stdout",
          "text": [
            "\n",
            "\n",
            "Used to count the number of rows before removing the data:\n",
            " No.                    52955\n",
            "ID                     52924\n",
            "Gender                 52924\n",
            "Location               52924\n",
            "Tenure_Months          52924\n",
            "Transaction_ID         52924\n",
            "Transaction_Date       52924\n",
            "SKU                    52924\n",
            "Product_Description    52924\n",
            "Product_Category       52955\n",
            "Quantity               52924\n",
            "Avg_Price              52924\n",
            "Delivery_Charges       52924\n",
            "Coupon_Status          52924\n",
            "GST                    52924\n",
            "Date                   52924\n",
            "Offline_Spend          52924\n",
            "Online_Spend           52924\n",
            "Month                  52955\n",
            "Coupon_Code            52555\n",
            "Discount_pct           52555\n",
            "dtype: int64\n",
            "\n",
            "\n",
            "Dropping the duplicates    No.       ID Gender Location  Tenure_Months  Transaction_ID  \\\n",
            "0    0  17850.0      M  Chicago           12.0         16679.0   \n",
            "1    1  17850.0      M  Chicago           12.0         16680.0   \n",
            "2    2  17850.0      M  Chicago           12.0         16696.0   \n",
            "3    3  17850.0      M  Chicago           12.0         16699.0   \n",
            "4    4  17850.0      M  Chicago           12.0         16700.0   \n",
            "\n",
            "  Transaction_Date             SKU  \\\n",
            "0       2019-01-01  GGOENEBJ079499   \n",
            "1       2019-01-01  GGOENEBJ079499   \n",
            "2       2019-01-01  GGOENEBQ078999   \n",
            "3       2019-01-01  GGOENEBQ079099   \n",
            "4       2019-01-01  GGOENEBJ079499   \n",
            "\n",
            "                                 Product_Description Product_Category  ...  \\\n",
            "0  Nest Learning Thermostat 3rd Gen-USA - Stainle...         Nest-USA  ...   \n",
            "1  Nest Learning Thermostat 3rd Gen-USA - Stainle...         Nest-USA  ...   \n",
            "2             Nest Cam Outdoor Security Camera - USA         Nest-USA  ...   \n",
            "3    Nest Protect Smoke + CO White Battery Alarm-USA         Nest-USA  ...   \n",
            "4  Nest Learning Thermostat 3rd Gen-USA - Stainle...         Nest-USA  ...   \n",
            "\n",
            "   Avg_Price  Delivery_Charges  Coupon_Status  GST      Date Offline_Spend  \\\n",
            "0     153.71               6.5           Used  0.1  1/1/2019        4500.0   \n",
            "1     153.71               6.5           Used  0.1  1/1/2019        4500.0   \n",
            "2     122.77               6.5       Not Used  0.1  1/1/2019        4500.0   \n",
            "3      81.50               6.5        Clicked  0.1  1/1/2019        4500.0   \n",
            "4     153.71               6.5        Clicked  0.1  1/1/2019        4500.0   \n",
            "\n",
            "   Online_Spend  Month  Coupon_Code Discount_pct  \n",
            "0        2424.5      1       ELEC10         10.0  \n",
            "1        2424.5      1       ELEC10         10.0  \n",
            "2        2424.5      1       ELEC10         10.0  \n",
            "3        2424.5      1       ELEC10         10.0  \n",
            "4        2424.5      1       ELEC10         10.0  \n",
            "\n",
            "[5 rows x 21 columns]\n",
            "\n",
            "\n",
            "Used to count the number of rows before removing the data:\n",
            " No.                    52955\n",
            "ID                     52924\n",
            "Gender                 52924\n",
            "Location               52924\n",
            "Tenure_Months          52924\n",
            "Transaction_ID         52924\n",
            "Transaction_Date       52924\n",
            "SKU                    52924\n",
            "Product_Description    52924\n",
            "Product_Category       52955\n",
            "Quantity               52924\n",
            "Avg_Price              52924\n",
            "Delivery_Charges       52924\n",
            "Coupon_Status          52924\n",
            "GST                    52924\n",
            "Date                   52924\n",
            "Offline_Spend          52924\n",
            "Online_Spend           52924\n",
            "Month                  52955\n",
            "Coupon_Code            52555\n",
            "Discount_pct           52555\n",
            "dtype: int64\n"
          ]
        }
      ]
    },
    {
      "cell_type": "markdown",
      "source": [
        "### 9. Finding the null values."
      ],
      "metadata": {
        "id": "9cOvVWwRSssh"
      }
    },
    {
      "cell_type": "code",
      "source": [
        "# Finding the null values.\n",
        "\n",
        "print(\"\\n\\nFinding the null values.\\n\",df.isnull().sum())\n",
        "\n"
      ],
      "metadata": {
        "colab": {
          "base_uri": "https://localhost:8080/"
        },
        "id": "LSG9zb1gSRdj",
        "outputId": "9c86c919-1eec-493d-bfc4-79c6af0f7306"
      },
      "execution_count": null,
      "outputs": [
        {
          "output_type": "stream",
          "name": "stdout",
          "text": [
            "\n",
            "\n",
            "Finding the null values.\n",
            " No.                      0\n",
            "ID                      31\n",
            "Gender                  31\n",
            "Location                31\n",
            "Tenure_Months           31\n",
            "Transaction_ID          31\n",
            "Transaction_Date        31\n",
            "SKU                     31\n",
            "Product_Description     31\n",
            "Product_Category         0\n",
            "Quantity                31\n",
            "Avg_Price               31\n",
            "Delivery_Charges        31\n",
            "Coupon_Status           31\n",
            "GST                     31\n",
            "Date                    31\n",
            "Offline_Spend           31\n",
            "Online_Spend            31\n",
            "Month                    0\n",
            "Coupon_Code            400\n",
            "Discount_pct           400\n",
            "dtype: int64\n"
          ]
        }
      ]
    },
    {
      "cell_type": "markdown",
      "source": [
        "### 10. Dropping the missing values."
      ],
      "metadata": {
        "id": "dtcrW0qnS0lQ"
      }
    },
    {
      "cell_type": "code",
      "source": [
        "# Dropping the missing values.\n",
        "df = df.dropna()\n",
        "print(\"\\n\\nDropping the missing values.\\n\",df.count())\n",
        "\n",
        "# After dropping the values\n",
        "print(\"\",df.isnull().sum())\n",
        "print(\"\\n\\nAfter dropping the values:\\n\",\n",
        "df.head(5),\"\\n\\n\",df.tail(5))"
      ],
      "metadata": {
        "colab": {
          "base_uri": "https://localhost:8080/"
        },
        "id": "iIlDr6uzSpEg",
        "outputId": "21574d63-2465-4298-c74e-aac1c3c47654"
      },
      "execution_count": null,
      "outputs": [
        {
          "output_type": "stream",
          "name": "stdout",
          "text": [
            "\n",
            "\n",
            "Dropping the missing values.\n",
            " No.                    52524\n",
            "ID                     52524\n",
            "Gender                 52524\n",
            "Location               52524\n",
            "Tenure_Months          52524\n",
            "Transaction_ID         52524\n",
            "Transaction_Date       52524\n",
            "SKU                    52524\n",
            "Product_Description    52524\n",
            "Product_Category       52524\n",
            "Quantity               52524\n",
            "Avg_Price              52524\n",
            "Delivery_Charges       52524\n",
            "Coupon_Status          52524\n",
            "GST                    52524\n",
            "Date                   52524\n",
            "Offline_Spend          52524\n",
            "Online_Spend           52524\n",
            "Month                  52524\n",
            "Coupon_Code            52524\n",
            "Discount_pct           52524\n",
            "dtype: int64\n",
            " No.                    0\n",
            "ID                     0\n",
            "Gender                 0\n",
            "Location               0\n",
            "Tenure_Months          0\n",
            "Transaction_ID         0\n",
            "Transaction_Date       0\n",
            "SKU                    0\n",
            "Product_Description    0\n",
            "Product_Category       0\n",
            "Quantity               0\n",
            "Avg_Price              0\n",
            "Delivery_Charges       0\n",
            "Coupon_Status          0\n",
            "GST                    0\n",
            "Date                   0\n",
            "Offline_Spend          0\n",
            "Online_Spend           0\n",
            "Month                  0\n",
            "Coupon_Code            0\n",
            "Discount_pct           0\n",
            "dtype: int64\n",
            "\n",
            "\n",
            "After dropping the values:\n",
            "    No.       ID Gender Location  Tenure_Months  Transaction_ID  \\\n",
            "0    0  17850.0      M  Chicago           12.0         16679.0   \n",
            "1    1  17850.0      M  Chicago           12.0         16680.0   \n",
            "2    2  17850.0      M  Chicago           12.0         16696.0   \n",
            "3    3  17850.0      M  Chicago           12.0         16699.0   \n",
            "4    4  17850.0      M  Chicago           12.0         16700.0   \n",
            "\n",
            "  Transaction_Date             SKU  \\\n",
            "0       2019-01-01  GGOENEBJ079499   \n",
            "1       2019-01-01  GGOENEBJ079499   \n",
            "2       2019-01-01  GGOENEBQ078999   \n",
            "3       2019-01-01  GGOENEBQ079099   \n",
            "4       2019-01-01  GGOENEBJ079499   \n",
            "\n",
            "                                 Product_Description Product_Category  ...  \\\n",
            "0  Nest Learning Thermostat 3rd Gen-USA - Stainle...         Nest-USA  ...   \n",
            "1  Nest Learning Thermostat 3rd Gen-USA - Stainle...         Nest-USA  ...   \n",
            "2             Nest Cam Outdoor Security Camera - USA         Nest-USA  ...   \n",
            "3    Nest Protect Smoke + CO White Battery Alarm-USA         Nest-USA  ...   \n",
            "4  Nest Learning Thermostat 3rd Gen-USA - Stainle...         Nest-USA  ...   \n",
            "\n",
            "   Avg_Price  Delivery_Charges  Coupon_Status  GST      Date Offline_Spend  \\\n",
            "0     153.71               6.5           Used  0.1  1/1/2019        4500.0   \n",
            "1     153.71               6.5           Used  0.1  1/1/2019        4500.0   \n",
            "2     122.77               6.5       Not Used  0.1  1/1/2019        4500.0   \n",
            "3      81.50               6.5        Clicked  0.1  1/1/2019        4500.0   \n",
            "4     153.71               6.5        Clicked  0.1  1/1/2019        4500.0   \n",
            "\n",
            "   Online_Spend  Month  Coupon_Code Discount_pct  \n",
            "0        2424.5      1       ELEC10         10.0  \n",
            "1        2424.5      1       ELEC10         10.0  \n",
            "2        2424.5      1       ELEC10         10.0  \n",
            "3        2424.5      1       ELEC10         10.0  \n",
            "4        2424.5      1       ELEC10         10.0  \n",
            "\n",
            "[5 rows x 21 columns] \n",
            "\n",
            "          No.       ID Gender    Location  Tenure_Months  Transaction_ID  \\\n",
            "52919  52919  13155.0      F  California            8.0         22504.0   \n",
            "52920  52920  18077.0      M     Chicago           34.0         24250.0   \n",
            "52921  52921  16085.0      M  California           15.0         39991.0   \n",
            "52922  52922  16085.0      M  California           15.0         39991.0   \n",
            "52923  52923  13659.0      F     Chicago            8.0         39998.0   \n",
            "\n",
            "      Transaction_Date             SKU                Product_Description  \\\n",
            "52919       2019-03-10  GGOEGGCX056399                Gift Card - $250.00   \n",
            "52920       2019-03-28  GGOEGGCX056299                 Gift Card - $25.00   \n",
            "52921       2019-10-06  GGOEGOCD078399  Google Leather Perforated Journal   \n",
            "52922       2019-10-06  GGOEGOCR078499      Google Spiral Leather Journal   \n",
            "52923       2019-10-06  GGOEGOCC077999     Google Spiral Journal with Pen   \n",
            "\n",
            "           Product_Category  ...  Avg_Price  Delivery_Charges  Coupon_Status  \\\n",
            "52919            Gift Cards  ...     250.00               0.0        Clicked   \n",
            "52920            Gift Cards  ...      25.00               0.0           Used   \n",
            "52921  Notebooks & Journals  ...      10.80               6.0        Clicked   \n",
            "52922  Notebooks & Journals  ...       9.60               6.0           Used   \n",
            "52923  Notebooks & Journals  ...       5.59               6.5       Not Used   \n",
            "\n",
            "        GST       Date Offline_Spend  Online_Spend  Month  Coupon_Code  \\\n",
            "52919  0.05  3/10/2019        2500.0       1294.22      3         GC30   \n",
            "52920  0.05  3/28/2019        2000.0       1066.12      3         GC30   \n",
            "52921  0.05  10/6/2019        3000.0       2230.76     10         NJ10   \n",
            "52922  0.05  10/6/2019        3000.0       2230.76     10         NJ10   \n",
            "52923  0.05  10/6/2019        3000.0       2230.76     10         NJ10   \n",
            "\n",
            "      Discount_pct  \n",
            "52919         30.0  \n",
            "52920         30.0  \n",
            "52921         10.0  \n",
            "52922         10.0  \n",
            "52923         10.0  \n",
            "\n",
            "[5 rows x 21 columns]\n"
          ]
        }
      ]
    },
    {
      "cell_type": "code",
      "source": [
        "purchase_by_source = pd.read_csv(\"Online-Shopping-Dataset.csv\", index_col=15)\n",
        "print(\"\\n\\n\",purchase_by_source.head(10))\n",
        "\n",
        "purchase_by_source = purchase_by_source.dropna()\n",
        "print(purchase_by_source.dtypes)\n",
        "purchase_by_source = purchase_by_source.drop(['Unnamed: 0','CustomerID','Gender','Tenure_Months','Transaction_ID','Transaction_Date','Product_SKU','Product_Description','Product_Category','Quantity','Delivery_Charges','Coupon_Status','GST','Month','Coupon_Code','Discount_pct',\"Location\"], axis=1)\n",
        "print(\"\\n\\n\",purchase_by_source.head(10))"
      ],
      "metadata": {
        "colab": {
          "base_uri": "https://localhost:8080/"
        },
        "id": "WjQux5-oT0VU",
        "outputId": "99509b0c-937a-4741-9e18-5ff735152c0c"
      },
      "execution_count": null,
      "outputs": [
        {
          "output_type": "stream",
          "name": "stdout",
          "text": [
            "\n",
            "\n",
            "           Unnamed: 0  CustomerID Gender Location  Tenure_Months  \\\n",
            "Date                                                              \n",
            "1/1/2019           0     17850.0      M  Chicago           12.0   \n",
            "1/1/2019           1     17850.0      M  Chicago           12.0   \n",
            "1/1/2019           2     17850.0      M  Chicago           12.0   \n",
            "1/1/2019           3     17850.0      M  Chicago           12.0   \n",
            "1/1/2019           4     17850.0      M  Chicago           12.0   \n",
            "1/1/2019           5     17850.0      M  Chicago           12.0   \n",
            "1/1/2019           6     17850.0      M  Chicago           12.0   \n",
            "1/1/2019           7     17850.0      M  Chicago           12.0   \n",
            "1/1/2019           8     17850.0      M  Chicago           12.0   \n",
            "1/1/2019           9     17850.0      M  Chicago           12.0   \n",
            "\n",
            "          Transaction_ID Transaction_Date     Product_SKU  \\\n",
            "Date                                                        \n",
            "1/1/2019         16679.0       2019-01-01  GGOENEBJ079499   \n",
            "1/1/2019         16680.0       2019-01-01  GGOENEBJ079499   \n",
            "1/1/2019         16696.0       2019-01-01  GGOENEBQ078999   \n",
            "1/1/2019         16699.0       2019-01-01  GGOENEBQ079099   \n",
            "1/1/2019         16700.0       2019-01-01  GGOENEBJ079499   \n",
            "1/1/2019         16701.0       2019-01-01  GGOENEBJ079499   \n",
            "1/1/2019         16702.0       2019-01-01  GGOENEBJ079499   \n",
            "1/1/2019         16703.0       2019-01-01  GGOENEBQ079099   \n",
            "1/1/2019         16704.0       2019-01-01  GGOENEBJ079499   \n",
            "1/1/2019         16710.0       2019-01-01  GGOENEBJ079499   \n",
            "\n",
            "                                        Product_Description Product_Category  \\\n",
            "Date                                                                           \n",
            "1/1/2019  Nest Learning Thermostat 3rd Gen-USA - Stainle...         Nest-USA   \n",
            "1/1/2019  Nest Learning Thermostat 3rd Gen-USA - Stainle...         Nest-USA   \n",
            "1/1/2019             Nest Cam Outdoor Security Camera - USA         Nest-USA   \n",
            "1/1/2019    Nest Protect Smoke + CO White Battery Alarm-USA         Nest-USA   \n",
            "1/1/2019  Nest Learning Thermostat 3rd Gen-USA - Stainle...         Nest-USA   \n",
            "1/1/2019  Nest Learning Thermostat 3rd Gen-USA - Stainle...         Nest-USA   \n",
            "1/1/2019  Nest Learning Thermostat 3rd Gen-USA - Stainle...         Nest-USA   \n",
            "1/1/2019    Nest Protect Smoke + CO White Battery Alarm-USA         Nest-USA   \n",
            "1/1/2019  Nest Learning Thermostat 3rd Gen-USA - Stainle...         Nest-USA   \n",
            "1/1/2019  Nest Learning Thermostat 3rd Gen-USA - Stainle...         Nest-USA   \n",
            "\n",
            "          Quantity  Avg_Price  Delivery_Charges Coupon_Status  GST  \\\n",
            "Date                                                                 \n",
            "1/1/2019       1.0     153.71              6.50          Used  0.1   \n",
            "1/1/2019       1.0     153.71              6.50          Used  0.1   \n",
            "1/1/2019       2.0     122.77              6.50      Not Used  0.1   \n",
            "1/1/2019       1.0      81.50              6.50       Clicked  0.1   \n",
            "1/1/2019       1.0     153.71              6.50       Clicked  0.1   \n",
            "1/1/2019       1.0     153.71              6.50       Clicked  0.1   \n",
            "1/1/2019       2.0     153.71              6.50       Clicked  0.1   \n",
            "1/1/2019       2.0      81.50              6.50      Not Used  0.1   \n",
            "1/1/2019       1.0     256.88              6.50          Used  0.1   \n",
            "1/1/2019       1.0     153.71             28.78       Clicked  0.1   \n",
            "\n",
            "          Offline_Spend  Online_Spend  Month Coupon_Code  Discount_pct  \n",
            "Date                                                                    \n",
            "1/1/2019         4500.0        2424.5      1      ELEC10          10.0  \n",
            "1/1/2019         4500.0        2424.5      1      ELEC10          10.0  \n",
            "1/1/2019         4500.0        2424.5      1      ELEC10          10.0  \n",
            "1/1/2019         4500.0        2424.5      1      ELEC10          10.0  \n",
            "1/1/2019         4500.0        2424.5      1      ELEC10          10.0  \n",
            "1/1/2019         4500.0        2424.5      1      ELEC10          10.0  \n",
            "1/1/2019         4500.0        2424.5      1      ELEC10          10.0  \n",
            "1/1/2019         4500.0        2424.5      1      ELEC10          10.0  \n",
            "1/1/2019         4500.0        2424.5      1      ELEC10          10.0  \n",
            "1/1/2019         4500.0        2424.5      1      ELEC10          10.0  \n",
            "Unnamed: 0               int64\n",
            "CustomerID             float64\n",
            "Gender                  object\n",
            "Location                object\n",
            "Tenure_Months          float64\n",
            "Transaction_ID         float64\n",
            "Transaction_Date        object\n",
            "Product_SKU             object\n",
            "Product_Description     object\n",
            "Product_Category        object\n",
            "Quantity               float64\n",
            "Avg_Price              float64\n",
            "Delivery_Charges       float64\n",
            "Coupon_Status           object\n",
            "GST                    float64\n",
            "Offline_Spend          float64\n",
            "Online_Spend           float64\n",
            "Month                    int64\n",
            "Coupon_Code             object\n",
            "Discount_pct           float64\n",
            "dtype: object\n",
            "\n",
            "\n",
            "           Avg_Price  Offline_Spend  Online_Spend\n",
            "Date                                            \n",
            "1/1/2019     153.71         4500.0        2424.5\n",
            "1/1/2019     153.71         4500.0        2424.5\n",
            "1/1/2019     122.77         4500.0        2424.5\n",
            "1/1/2019      81.50         4500.0        2424.5\n",
            "1/1/2019     153.71         4500.0        2424.5\n",
            "1/1/2019     153.71         4500.0        2424.5\n",
            "1/1/2019     153.71         4500.0        2424.5\n",
            "1/1/2019      81.50         4500.0        2424.5\n",
            "1/1/2019     256.88         4500.0        2424.5\n",
            "1/1/2019     153.71         4500.0        2424.5\n"
          ]
        }
      ]
    },
    {
      "cell_type": "code",
      "source": [
        "fig, axs = plt.subplots(figsize=(12, 4))        # Create an empty Matplotlib Figure and Axes\n",
        "purchase_by_source.plot.area(ax=axs, subplots=True)                   # Use pandas to put the area plot on the prepared Figure/Axes\n",
        "axs.set_ylabel(\"Date\")          # Do any Matplotlib customization you like\n",
        "fig.savefig(\"no2_concentrations.png\")           # Save the Figure/Axes using the existing Matplotlib method.\n",
        "plt.show()                                      # Display the plot"
      ],
      "metadata": {
        "colab": {
          "base_uri": "https://localhost:8080/",
          "height": 397
        },
        "id": "nUpHeBp2UD8Q",
        "outputId": "dfbb9cc7-1feb-48b4-e2a9-43a69852b7d6"
      },
      "execution_count": null,
      "outputs": [
        {
          "output_type": "stream",
          "name": "stderr",
          "text": [
            "<ipython-input-40-e1bc7c07623b>:2: UserWarning: To output multiple subplots, the figure containing the passed axes is being cleared.\n",
            "  purchase_by_source.plot.area(ax=axs, subplots=True)                   # Use pandas to put the area plot on the prepared Figure/Axes\n"
          ]
        },
        {
          "output_type": "display_data",
          "data": {
            "text/plain": [
              "<Figure size 1200x400 with 3 Axes>"
            ],
            "image/png": "[encoded data removed]"
          },
          "metadata": {}
        }
      ]
    },
    {
      "cell_type": "code",
      "source": [
        "%ls"
      ],
      "metadata": {
        "colab": {
          "base_uri": "https://localhost:8080/"
        },
        "id": "5aiHjZr_UP0c",
        "outputId": "329c6cfc-b3b4-4ec1-c020-fcfa55a235ee"
      },
      "execution_count": null,
      "outputs": [
        {
          "output_type": "stream",
          "name": "stdout",
          "text": [
            "\u001b[0m\u001b[01;34msample_data\u001b[0m/\n"
          ]
        }
      ]
    }
  ]
}